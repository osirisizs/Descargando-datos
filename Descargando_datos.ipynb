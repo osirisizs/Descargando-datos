{
  "nbformat": 4,
  "nbformat_minor": 0,
  "metadata": {
    "colab": {
      "name": "Descargando_datos.ipynb",
      "provenance": [],
      "authorship_tag": "ABX9TyMDIvUumQUj7CKuzQ3BNHnX",
      "include_colab_link": true
    },
    "kernelspec": {
      "name": "python3",
      "display_name": "Python 3"
    },
    "language_info": {
      "name": "python"
    }
  },
  "cells": [
    {
      "cell_type": "markdown",
      "metadata": {
        "id": "view-in-github",
        "colab_type": "text"
      },
      "source": [
        "<a href=\"https://colab.research.google.com/github/osirisizs/Descargando-datos/blob/main/Descargando_datos.ipynb\" target=\"_parent\"><img src=\"https://colab.research.google.com/assets/colab-badge.svg\" alt=\"Open In Colab\"/></a>"
      ]
    },
    {
      "cell_type": "markdown",
      "source": [
        "<center>\n",
        "\n",
        "# Curso *Ingeniería de Características*\n",
        "## Descargando datos\n",
        "### Tarea 1\n",
        "\n",
        "<p> Osiris Izaguirre </p>\n",
        "\n",
        "</center>"
      ],
      "metadata": {
        "id": "j_cJH0cM81uK"
      }
    },
    {
      "cell_type": "markdown",
      "source": [
        "# 1. Descargando datos\n",
        "Vamos a ver primero como ir descargando datos y luego como lidiar con diferentes formatos. Es muy importante que, si los datos los vamos a cargar por única vez, descargar el conjunto de datos, tal como se encuentran, esto es `raw data`.\n",
        "\n",
        "Vamos primero cargando las bibliotecas necesarias:"
      ],
      "metadata": {
        "id": "44AP1O9s9uoQ"
      }
    },
    {
      "cell_type": "code",
      "source": [
        "import os  # Para manejo de archivos y directorios\n",
        "import urllib.request # Una forma estandard de descargar datos\n",
        "# import requests # Otra forma no de las librerías de uso comun\n",
        "\n",
        "import datetime # Fecha de descarga\n",
        "import pandas as pd # Solo para ver el archivo descargado\n",
        "import zipfile # Descompresión de archivos"
      ],
      "metadata": {
        "id": "KykeC_wp93wf"
      },
      "execution_count": 2,
      "outputs": []
    },
    {
      "cell_type": "markdown",
      "source": [
        "Es importante saber en donde nos encontramos y crear los subdirectorios necesarios para guardar los datos de manera ordenada. Tambien es importante evitar cargar datos que ya han sido descargados anteriormente."
      ],
      "metadata": {
        "id": "F29WXp9g-W7K"
      }
    },
    {
      "cell_type": "code",
      "source": [
        "# pwd\n",
        "print(os.getcwd())\n",
        "\n",
        "#  Estos son los datos que vamos a descargar y donde vamos a guardarlos\n",
        "energia_SECTOR_TARIFARIO_url = \"http://base.energia.gob.mx/dgaic/DA/P/DGPlaneacionInformacionEnergeticas/UsuariosEnergiaElectricaSectorTarifario/SENER_05_UsuariosEnergiaElectricaPorSectorTarifario-IIIA3C01.csv\"\n",
        "energia_SECTOR_TARIFARIO_archivo = \"SECTOR_TARIFARIO.csv\"\n",
        "energia_TARIFA_url = \"http://base.energia.gob.mx/dgaic/DA/P/DGPlaneacionInformacionEnergeticas/UsuariosEnergiaElectricaTarifa/SENER_05_UsuariosEnergiaElectricaPorTarifa-IIIA3C02.csv\"\n",
        "energia_TARIFA_archivo = \"TARIFA.csv\"\n",
        "energia_GENERACION_url = \"http://www.cre.gob.mx/da/PermisosdeGeneracionInsumoTecnologiaPermisionario.csv\"\n",
        "energia_GENERACION_archivo = \"GENERACION.csv\"\n",
        "energia_PERMISOS_VIGENTES_url = \"http://www.cre.gob.mx/da/PermisosdeGeneracionVigentesporModalidad.csv\"\n",
        "energia_PERMISOS_VIGENTES_archivo = \"PERMISOS_VIGENTES.csv\"\n",
        "energia_USUARIOS_ENTIDAD_FEDERATIVA_url = \"http://base.energia.gob.mx/dgaic/DA/P/DGPlaneacionInformacionEnergeticas/UsuariosEnergiaElectricaEntidadFederativa/SENER_05_UsuariosEnergiaElectricaPorEntidadFederativa-IIIA3C03.csv\"\n",
        "energia_USUARIOS_ENTIDAD_FEDERATIVA_archivo = \"USUARIOS_ENTIDAD_FEDERATIVA.csv\"\n",
        "subdir = \"./data/\""
      ],
      "metadata": {
        "colab": {
          "base_uri": "https://localhost:8080/"
        },
        "id": "fkHsnK5l-Y-Z",
        "outputId": "ec638f93-a561-4f79-bfb0-7a459d5b7552"
      },
      "execution_count": 12,
      "outputs": [
        {
          "output_type": "stream",
          "name": "stdout",
          "text": [
            "/content\n"
          ]
        }
      ]
    },
    {
      "cell_type": "code",
      "source": [
        "if not os.path.exists(energia_SECTOR_TARIFARIO_archivo):\n",
        "    if not os.path.exists(subdir):\n",
        "        os.makedirs(subdir)\n",
        "    urllib.request.urlretrieve(energia_SECTOR_TARIFARIO_url, subdir + energia_SECTOR_TARIFARIO_archivo)  \n",
        "\n",
        "#    NO ES ARCHIVO ZIP \n",
        "#    with zipfile.ZipFile(subdir + energia_SECTOR_TARIFARIO_archivo, \"r\") as zip_ref:\n",
        "#        zip_ref.extractall(subdir)\n",
        "    \n",
        "    urllib.request.urlretrieve(energia_TARIFA_url, subdir + energia_TARIFA_archivo) \n",
        "    urllib.request.urlretrieve(energia_GENERACION_url, subdir + energia_GENERACION_archivo)  \n",
        "    urllib.request.urlretrieve(energia_PERMISOS_VIGENTES_url, subdir + energia_PERMISOS_VIGENTES_archivo)\n",
        "    urllib.request.urlretrieve(energia_USUARIOS_ENTIDAD_FEDERATIVA_url, subdir + energia_USUARIOS_ENTIDAD_FEDERATIVA_archivo)    \n",
        "    \n",
        "    \n",
        "    with open(subdir + \"info.txt\", 'w') as f:\n",
        "        f.write(\"Archivos sobre Generación y consumo energético en México\\n\")\n",
        "        info = \"\"\"\n",
        "        Datos sobre la generación y consumo de energía eléctrica en México, por entidad federativa, \n",
        "        tipos de usuarios, tipo de tarifa y diferentes tarifas aplicables de 2017 a 2019.\n",
        "\n",
        "        Los datos se obtuvieron de DATAMX con fecha de 21 de Febrero de 2019 (la base de datos se actualiza constantemente) \n",
        "\n",
        "        \"\"\" \n",
        "        f.write(info + '\\n')\n",
        "        f.write(\"Descargado el \" + datetime.datetime.now().strftime(\"%Y-%m-%d %H:%M:%S\") + \"\\n\")\n",
        "        f.write(\"Desde: \" + energia_SECTOR_TARIFARIO_url + \"\\n\")\n",
        "        f.write(\"Nombre: \" + energia_SECTOR_TARIFARIO_archivo + \"\\n\")\n",
        "        f.write(\"Desde: \" + energia_TARIFA_url + \"\\n\")\n",
        "        f.write(\"Nombre: \" + energia_TARIFA_archivo + \"\\n\")\n",
        "        f.write(\"Desde: \" + energia_GENERACION_url + \"\\n\")\n",
        "        f.write(\"Nombre: \" + energia_GENERACION_archivo + \"\\n\")\n",
        "        f.write(\"Desde: \" + energia_PERMISOS_VIGENTES_url + \"\\n\")\n",
        "        f.write(\"Nombre: \" + energia_PERMISOS_VIGENTES_archivo + \"\\n\")\n",
        "        f.write(\"Desde: \" + energia_USUARIOS_ENTIDAD_FEDERATIVA_url + \"\\n\")\n",
        "        f.write(\"Nombre: \" + energia_USUARIOS_ENTIDAD_FEDERATIVA_archivo + \"\\n\")"
      ],
      "metadata": {
        "id": "Q9cUQ7UGI2Ii"
      },
      "execution_count": 13,
      "outputs": []
    }
  ]
}